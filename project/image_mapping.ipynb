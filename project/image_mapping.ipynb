{
 "cells": [
  {
   "cell_type": "markdown",
   "id": "7deffd64",
   "metadata": {},
   "source": [
    "# Testing file for images"
   ]
  },
  {
   "cell_type": "code",
   "execution_count": 17,
   "id": "6c183c3e",
   "metadata": {},
   "outputs": [],
   "source": [
    "import matplotlib.pyplot as plt\n",
    "\n",
    "from simulator_lib import *"
   ]
  },
  {
   "cell_type": "code",
   "execution_count": null,
   "id": "11d95880",
   "metadata": {},
   "outputs": [],
   "source": [
    "def get_color(j):\n",
    "    if j < (1/6) * 100:\n",
    "        return 0\n",
    "    elif j < (2/6) * 100:\n",
    "        return 1\n",
    "    elif j < (3/6) * 100:\n",
    "        return 2\n",
    "    elif j < (4/6) * 100:\n",
    "        return 3\n",
    "    elif j < (5/6) * 100:\n",
    "        return 4\n",
    "    else:\n",
    "        return 5"
   ]
  },
  {
   "cell_type": "code",
   "execution_count": 40,
   "id": "e4bddf14",
   "metadata": {},
   "outputs": [],
   "source": [
    "def get_color_ij(i, j):\n",
    "    if i < (1/6) * 100:\n",
    "        return get_color(j)\n",
    "    elif i < (2/6) * 100:\n",
    "        color = (get_color(j) + 1)\n",
    "        if color > 5:\n",
    "            color -= 5\n",
    "        return color\n",
    "    elif i < (3/6) * 100:\n",
    "        color = (get_color(j) + 2)\n",
    "        if color > 5:\n",
    "            color -= 5\n",
    "        return color\n",
    "    elif i < (4/6) * 100:\n",
    "        color = (get_color(j) + 3)\n",
    "        if color > 5:\n",
    "            color -= 5\n",
    "        return color\n",
    "    elif i < (5/6) * 100:\n",
    "        color = (get_color(j) + 4)\n",
    "        if color > 5:\n",
    "            color -= 5\n",
    "        return color\n",
    "    else:\n",
    "        color = (get_color(j) + 5)\n",
    "        if color > 5:\n",
    "            color -= 5\n",
    "        return color\n",
    "    "
   ]
  },
  {
   "cell_type": "code",
   "execution_count": 41,
   "id": "ed07117e",
   "metadata": {},
   "outputs": [],
   "source": [
    "image = []\n",
    "for i in range(100):\n",
    "    arr = []\n",
    "    for j in range(100):\n",
    "        #color = np.random.randint(low=0, high=6)\n",
    "        #color = (j) % 6\n",
    "        color = get_color_ij(i, j)\n",
    "        pixel = color_to_rgb(color)\n",
    "        arr.append(pixel)\n",
    "    image.append(arr)"
   ]
  },
  {
   "cell_type": "code",
   "execution_count": 42,
   "id": "5a0590e8",
   "metadata": {},
   "outputs": [
    {
     "data": {
      "text/plain": [
       "(-0.5, 99.5, 99.5, -0.5)"
      ]
     },
     "execution_count": 42,
     "metadata": {},
     "output_type": "execute_result"
    },
    {
     "data": {
      "image/png": "[encoded data removed]",
      "text/plain": [
       "<Figure size 600x400 with 1 Axes>"
      ]
     },
     "metadata": {},
     "output_type": "display_data"
    }
   ],
   "source": [
    "fig, ax = plt.subplots(1, 1, figsize=(6, 4))\n",
    "ax.imshow(image)\n",
    "ax.axis('off')"
   ]
  }
 ],
 "metadata": {
  "kernelspec": {
   "display_name": "cognitive",
   "language": "python",
   "name": "python3"
  },
  "language_info": {
   "codemirror_mode": {
    "name": "ipython",
    "version": 3
   },
   "file_extension": ".py",
   "mimetype": "text/x-python",
   "name": "python",
   "nbconvert_exporter": "python",
   "pygments_lexer": "ipython3",
   "version": "3.12.0"
  }
 },
 "nbformat": 4,
 "nbformat_minor": 5
}
