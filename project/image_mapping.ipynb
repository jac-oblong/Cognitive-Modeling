{
 "cells": [
  {
   "cell_type": "code",
   "execution_count": 17,
   "id": "6c183c3e",
   "metadata": {},
   "outputs": [],
   "source": [
    "import matplotlib.pyplot as plt\n",
    "\n",
    "from simulator_lib import *"
   ]
  },
  {
   "cell_type": "code",
   "execution_count": 18,
   "id": "66462b85",
   "metadata": {},
   "outputs": [],
   "source": [
    "def color_to_rgb(color):\n",
    "    match color:\n",
    "        case 0: # violet\n",
    "            return (72, 5, 118)\n",
    "        case 1: # blue\n",
    "            return (11, 17, 212)\n",
    "        case 2: # green\n",
    "            return (11, 212, 45)\n",
    "        case 3: # yellow\n",
    "            return (251, 247, 2)\n",
    "        case 4: # orange\n",
    "            return (251, 138, 2)\n",
    "        case 5: # red\n",
    "            return (251, 2, 2)"
   ]
  },
  {
   "cell_type": "code",
   "execution_count": 30,
   "id": "fccf92fa",
   "metadata": {},
   "outputs": [],
   "source": [
    "def get_color(j):\n",
    "    if j < (1/6) * 100:\n",
    "        return 0\n",
    "    elif j < (2/6) * 100:\n",
    "        return 1\n",
    "    elif j < (3/6) * 100:\n",
    "        return 2\n",
    "    elif j < (4/6) * 100:\n",
    "        return 3\n",
    "    elif j < (5/6) * 100:\n",
    "        return 4\n",
    "    else:\n",
    "        return 5"
   ]
  },
  {
   "cell_type": "code",
   "execution_count": 31,
   "id": "ed07117e",
   "metadata": {},
   "outputs": [],
   "source": [
    "image = []\n",
    "for i in range(100):\n",
    "    arr = []\n",
    "    for j in range(100):\n",
    "        #color = np.random.randint(low=0, high=6)\n",
    "        #color = (j) % 6\n",
    "        color = get_color(j)\n",
    "        pixel = color_to_rgb(color)\n",
    "        arr.append(pixel)\n",
    "    image.append(arr)"
   ]
  },
  {
   "cell_type": "code",
   "execution_count": 32,
   "id": "5a0590e8",
   "metadata": {},
   "outputs": [
    {
     "data": {
      "text/plain": [
       "(-0.5, 99.5, 99.5, -0.5)"
      ]
     },
     "execution_count": 32,
     "metadata": {},
     "output_type": "execute_result"
    },
    {
     "data": {
      "image/png": "[encoded data removed]",
      "text/plain": [
       "<Figure size 600x400 with 1 Axes>"
      ]
     },
     "metadata": {},
     "output_type": "display_data"
    }
   ],
   "source": [
    "fig, ax = plt.subplots(1, 1, figsize=(6, 4))\n",
    "ax.imshow(image)\n",
    "ax.axis('off')"
   ]
  }
 ],
 "metadata": {
  "kernelspec": {
   "display_name": "cognitive",
   "language": "python",
   "name": "python3"
  },
  "language_info": {
   "codemirror_mode": {
    "name": "ipython",
    "version": 3
   },
   "file_extension": ".py",
   "mimetype": "text/x-python",
   "name": "python",
   "nbconvert_exporter": "python",
   "pygments_lexer": "ipython3",
   "version": "3.12.0"
  }
 },
 "nbformat": 4,
 "nbformat_minor": 5
}
