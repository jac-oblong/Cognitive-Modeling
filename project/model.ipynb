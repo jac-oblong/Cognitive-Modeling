{
      "cells": [
            {
                  "cell_type": "markdown",
                  "id": "31097e34",
                  "metadata": {},
                  "source": [
                        "# Deep Learning for Cone Cells and Light Frequency"
                  ]
            },
            {
                  "cell_type": "code",
                  "execution_count": 1,
                  "id": "ef077d4a",
                  "metadata": {},
                  "outputs": [
                        {
                              "name": "stderr",
                              "output_type": "stream",
                              "text": [
                                    "2025-04-24 23:51:33.208301: I external/local_xla/xla/tsl/cuda/cudart_stub.cc:32] Could not find cuda drivers on your machine, GPU will not be used.\n",
                                    "2025-04-24 23:51:33.211766: I external/local_xla/xla/tsl/cuda/cudart_stub.cc:32] Could not find cuda drivers on your machine, GPU will not be used.\n",
                                    "2025-04-24 23:51:33.221070: E external/local_xla/xla/stream_executor/cuda/cuda_fft.cc:477] Unable to register cuFFT factory: Attempting to register factory for plugin cuFFT when one has already been registered\n",
                                    "WARNING: All log messages before absl::InitializeLog() is called are written to STDERR\n",
                                    "E0000 00:00:1745553093.236358    8958 cuda_dnn.cc:8310] Unable to register cuDNN factory: Attempting to register factory for plugin cuDNN when one has already been registered\n",
                                    "E0000 00:00:1745553093.240719    8958 cuda_blas.cc:1418] Unable to register cuBLAS factory: Attempting to register factory for plugin cuBLAS when one has already been registered\n",
                                    "2025-04-24 23:51:33.257017: I tensorflow/core/platform/cpu_feature_guard.cc:210] This TensorFlow binary is optimized to use available CPU instructions in performance-critical operations.\n",
                                    "To enable the following instructions: AVX2 FMA, in other operations, rebuild TensorFlow with the appropriate compiler flags.\n"
                              ]
                        }
                  ],
                  "source": [
                        "import numpy as np\n",
                        "import matplotlib.pyplot as plt\n",
                        "import seaborn as sns\n",
                        "from tqdm.notebook import tqdm\n",
                        "\n",
                        "np.set_printoptions(suppress=True)\n",
                        "\n",
                        "import sklearn.metrics as metrics\n",
                        "\n",
                        "import tensorflow as tf\n",
                        "from tensorflow import keras\n",
                        "\n",
                        "import pickle\n",
                        "\n",
                        "from simulator_lib import *"
                  ]
            },
            {
                  "cell_type": "markdown",
                  "id": "8cfe116a",
                  "metadata": {},
                  "source": [
                        "## Generating / Loading the Cone Cells"
                  ]
            },
            {
                  "cell_type": "code",
                  "execution_count": null,
                  "id": "a550e0c8",
                  "metadata": {},
                  "outputs": [],
                  "source": [
                        "GENERATE_NEW_CONE_CELLS = False\n",
                        "\n",
                        "NUM_EYES = 10\n",
                        "NUM_CELLS_PER_EYE = 10000\n",
                        "\n",
                        "NUM_RED = int(NUM_CELLS_PER_EYE * PERCENT_RED)\n",
                        "NUM_GREEN = int(NUM_CELLS_PER_EYE * PERCENT_GREEN)\n",
                        "NUM_BLUE = int(NUM_CELLS_PER_EYE * PERCENT_BLUE)\n",
                        "assert(NUM_RED + NUM_GREEN + NUM_BLUE == NUM_CELLS_PER_EYE)\n",
                        "\n",
                        "if GENERATE_NEW_CONE_CELLS:\n",
                        "\n",
                        "    eyes = []\n",
                        "\n",
                        "    for i in range(NUM_EYES):\n",
                        "        RED_MU = np.random.uniform(RED_MU_LOWER, RED_MU_UPPER)\n",
                        "        GREEN_MU = np.random.uniform(GREEN_MU_LOWER, GREEN_MU_UPPER)\n",
                        "        BLUE_MU = np.random.uniform(BLUE_MU_LOWER, BLUE_MU_UPPER)\n",
                        "\n",
                        "        # create the cone cells\n",
                        "        cone_cells = (\n",
                        "            generate_cone_cells(NUM_RED, RED_MU, RED_SIGMA) +\n",
                        "            generate_cone_cells(NUM_GREEN, GREEN_MU, GREEN_SIGMA) +\n",
                        "            generate_cone_cells(NUM_BLUE, BLUE_MU, BLUE_SIGMA)\n",
                        "        )\n",
                        "\n",
                        "        eyes.append(cone_cells)\n",
                        "\n",
                        "        # save the cone cells\n",
                        "        with open(f\"./data/normal_cone_cells/eye{i:02}.pkl\", \"wb\") as fp:\n",
                        "            pickle.dump(cone_cells, fp, pickle.HIGHEST_PROTOCOL)\n",
                        "\n",
                        "else:\n",
                        "\n",
                        "    eyes = []\n",
                        "\n",
                        "    for i in range(NUM_EYES):\n",
                        "        with open(f\"./data/normal_cone_cells/eye{i:02}.pkl\", mode=\"rb\") as fp:\n",
                        "            cone_cells = pickle.load(fp)\n",
                        "            eyes.append(cone_cells)"
                  ]
            },
            {
                  "cell_type": "markdown",
                  "id": "e83b5226",
                  "metadata": {},
                  "source": [
                        "## Generating the Simulation Data"
                  ]
            },
            {
                  "cell_type": "code",
                  "execution_count": 12,
                  "id": "6a39b608",
                  "metadata": {},
                  "outputs": [
                        {
                              "name": "stdout",
                              "output_type": "stream",
                              "text": [
                                    "[[0. 0. 0. ... 1. 0. 0.]\n",
                                    " [0. 0. 0. ... 0. 0. 0.]\n",
                                    " [1. 0. 1. ... 0. 0. 0.]\n",
                                    " ...\n",
                                    " [0. 0. 1. ... 0. 0. 0.]\n",
                                    " [0. 0. 0. ... 0. 0. 0.]\n",
                                    " [0. 0. 0. ... 0. 0. 0.]]\n",
                                    "[1. 5. 4. ... 4. 5. 4.]\n"
                              ]
                        }
                  ],
                  "source": [
                        "NUM_DATA_POINTS = 1000\n",
                        "MIN_WAVELENGTH = 380\n",
                        "MAX_WAVELENGTH = 750\n",
                        "\n",
                        "activations = np.zeros(shape=(len(eyes) * NUM_DATA_POINTS, len(eyes[0])))\n",
                        "colors = np.zeros(shape=(len(eyes) * NUM_DATA_POINTS))\n",
                        "\n",
                        "for i, cone_cells in enumerate(eyes):\n",
                        "    a, c = sample_wavelengths(\n",
                        "        num_data_points=NUM_DATA_POINTS, \n",
                        "        cells=cone_cells, \n",
                        "        min_wl=MIN_WAVELENGTH, \n",
                        "        max_wl=MAX_WAVELENGTH,\n",
                        "    )\n",
                        "    c = np.array(c).astype(int)\n",
                        "\n",
                        "    activations[i * NUM_DATA_POINTS : (i+1) * NUM_DATA_POINTS] = a\n",
                        "    colors[i * NUM_DATA_POINTS : (i+1) * NUM_DATA_POINTS] = c\n",
                        "\n",
                        "print(activations)\n",
                        "print(colors)"
                  ]
            },
            {
                  "cell_type": "markdown",
                  "id": "a2341a19",
                  "metadata": {},
                  "source": [
                        "## Feedforward Network Architecture"
                  ]
            },
            {
                  "cell_type": "markdown",
                  "id": "e0a6ea68",
                  "metadata": {},
                  "source": [
                        "### Separate Data into Training and Test Sets"
                  ]
            },
            {
                  "cell_type": "code",
                  "execution_count": 13,
                  "id": "aa2e8680",
                  "metadata": {},
                  "outputs": [],
                  "source": [
                        "# shuffle the data\n",
                        "randomize = np.arange(len(activations), dtype=int)\n",
                        "np.random.shuffle(randomize)\n",
                        "activations = activations[randomize]\n",
                        "colors = colors[randomize]\n",
                        "\n",
                        "PERCENT_TRAIN_SET = 0.85\n",
                        "NUM_TRAIN_SET = int(len(activations) * PERCENT_TRAIN_SET)\n",
                        "\n",
                        "train_activations = activations[:NUM_TRAIN_SET]\n",
                        "train_colors = colors[:NUM_TRAIN_SET]\n",
                        "test_activations = activations[NUM_TRAIN_SET:]\n",
                        "test_colors = colors[NUM_TRAIN_SET:]"
                  ]
            },
            {
                  "cell_type": "markdown",
                  "id": "67d75970",
                  "metadata": {},
                  "source": [
                        "### Model Setup"
                  ]
            },
            {
                  "cell_type": "code",
                  "execution_count": 14,
                  "id": "78c25c4b",
                  "metadata": {},
                  "outputs": [],
                  "source": [
                        "model = keras.Sequential([\n",
                        "    keras.Input(shape=(train_activations.shape[-1], )),\n",
                        "    keras.layers.Dense(units=128, activation=\"silu\"),\n",
                        "    keras.layers.Dropout(0.2),\n",
                        "    keras.layers.Dense(units=128, activation=\"silu\"),\n",
                        "    keras.layers.Dropout(0.2),\n",
                        "    keras.layers.Dense(units=128, activation=\"silu\"),\n",
                        "    keras.layers.Dropout(0.2),\n",
                        "    keras.layers.Dense(units=128, activation=\"silu\"),\n",
                        "    keras.layers.Dropout(0.2),\n",
                        "    keras.layers.Dense(units=len(Color), activation=\"softmax\"),\n",
                        "])"
                  ]
            },
            {
                  "cell_type": "markdown",
                  "id": "18550a54",
                  "metadata": {},
                  "source": [
                        "### Compile Model"
                  ]
            },
            {
                  "cell_type": "code",
                  "execution_count": 15,
                  "id": "7e280bfb",
                  "metadata": {},
                  "outputs": [
                        {
                              "data": {
                                    "text/html": [
                                          "<pre style=\"white-space:pre;overflow-x:auto;line-height:normal;font-family:Menlo,'DejaVu Sans Mono',consolas,'Courier New',monospace\"><span style=\"font-weight: bold\">Model: \"sequential_1\"</span>\n",
                                          "</pre>\n"
                                    ],
                                    "text/plain": [
                                          "\u001b[1mModel: \"sequential_1\"\u001b[0m\n"
                                    ]
                              },
                              "metadata": {},
                              "output_type": "display_data"
                        },
                        {
                              "data": {
                                    "text/html": [
                                          "<pre style=\"white-space:pre;overflow-x:auto;line-height:normal;font-family:Menlo,'DejaVu Sans Mono',consolas,'Courier New',monospace\">┏━━━━━━━━━━━━━━━━━━━━━━━━━━━━━━━━━┳━━━━━━━━━━━━━━━━━━━━━━━━┳━━━━━━━━━━━━━━━┓\n",
                                          "┃<span style=\"font-weight: bold\"> Layer (type)                    </span>┃<span style=\"font-weight: bold\"> Output Shape           </span>┃<span style=\"font-weight: bold\">       Param # </span>┃\n",
                                          "┡━━━━━━━━━━━━━━━━━━━━━━━━━━━━━━━━━╇━━━━━━━━━━━━━━━━━━━━━━━━╇━━━━━━━━━━━━━━━┩\n",
                                          "│ dense_5 (<span style=\"color: #0087ff; text-decoration-color: #0087ff\">Dense</span>)                 │ (<span style=\"color: #00d7ff; text-decoration-color: #00d7ff\">None</span>, <span style=\"color: #00af00; text-decoration-color: #00af00\">128</span>)            │     <span style=\"color: #00af00; text-decoration-color: #00af00\">1,280,128</span> │\n",
                                          "├─────────────────────────────────┼────────────────────────┼───────────────┤\n",
                                          "│ dropout_4 (<span style=\"color: #0087ff; text-decoration-color: #0087ff\">Dropout</span>)             │ (<span style=\"color: #00d7ff; text-decoration-color: #00d7ff\">None</span>, <span style=\"color: #00af00; text-decoration-color: #00af00\">128</span>)            │             <span style=\"color: #00af00; text-decoration-color: #00af00\">0</span> │\n",
                                          "├─────────────────────────────────┼────────────────────────┼───────────────┤\n",
                                          "│ dense_6 (<span style=\"color: #0087ff; text-decoration-color: #0087ff\">Dense</span>)                 │ (<span style=\"color: #00d7ff; text-decoration-color: #00d7ff\">None</span>, <span style=\"color: #00af00; text-decoration-color: #00af00\">128</span>)            │        <span style=\"color: #00af00; text-decoration-color: #00af00\">16,512</span> │\n",
                                          "├─────────────────────────────────┼────────────────────────┼───────────────┤\n",
                                          "│ dropout_5 (<span style=\"color: #0087ff; text-decoration-color: #0087ff\">Dropout</span>)             │ (<span style=\"color: #00d7ff; text-decoration-color: #00d7ff\">None</span>, <span style=\"color: #00af00; text-decoration-color: #00af00\">128</span>)            │             <span style=\"color: #00af00; text-decoration-color: #00af00\">0</span> │\n",
                                          "├─────────────────────────────────┼────────────────────────┼───────────────┤\n",
                                          "│ dense_7 (<span style=\"color: #0087ff; text-decoration-color: #0087ff\">Dense</span>)                 │ (<span style=\"color: #00d7ff; text-decoration-color: #00d7ff\">None</span>, <span style=\"color: #00af00; text-decoration-color: #00af00\">128</span>)            │        <span style=\"color: #00af00; text-decoration-color: #00af00\">16,512</span> │\n",
                                          "├─────────────────────────────────┼────────────────────────┼───────────────┤\n",
                                          "│ dropout_6 (<span style=\"color: #0087ff; text-decoration-color: #0087ff\">Dropout</span>)             │ (<span style=\"color: #00d7ff; text-decoration-color: #00d7ff\">None</span>, <span style=\"color: #00af00; text-decoration-color: #00af00\">128</span>)            │             <span style=\"color: #00af00; text-decoration-color: #00af00\">0</span> │\n",
                                          "├─────────────────────────────────┼────────────────────────┼───────────────┤\n",
                                          "│ dense_8 (<span style=\"color: #0087ff; text-decoration-color: #0087ff\">Dense</span>)                 │ (<span style=\"color: #00d7ff; text-decoration-color: #00d7ff\">None</span>, <span style=\"color: #00af00; text-decoration-color: #00af00\">128</span>)            │        <span style=\"color: #00af00; text-decoration-color: #00af00\">16,512</span> │\n",
                                          "├─────────────────────────────────┼────────────────────────┼───────────────┤\n",
                                          "│ dropout_7 (<span style=\"color: #0087ff; text-decoration-color: #0087ff\">Dropout</span>)             │ (<span style=\"color: #00d7ff; text-decoration-color: #00d7ff\">None</span>, <span style=\"color: #00af00; text-decoration-color: #00af00\">128</span>)            │             <span style=\"color: #00af00; text-decoration-color: #00af00\">0</span> │\n",
                                          "├─────────────────────────────────┼────────────────────────┼───────────────┤\n",
                                          "│ dense_9 (<span style=\"color: #0087ff; text-decoration-color: #0087ff\">Dense</span>)                 │ (<span style=\"color: #00d7ff; text-decoration-color: #00d7ff\">None</span>, <span style=\"color: #00af00; text-decoration-color: #00af00\">6</span>)              │           <span style=\"color: #00af00; text-decoration-color: #00af00\">774</span> │\n",
                                          "└─────────────────────────────────┴────────────────────────┴───────────────┘\n",
                                          "</pre>\n"
                                    ],
                                    "text/plain": [
                                          "┏━━━━━━━━━━━━━━━━━━━━━━━━━━━━━━━━━┳━━━━━━━━━━━━━━━━━━━━━━━━┳━━━━━━━━━━━━━━━┓\n",
                                          "┃\u001b[1m \u001b[0m\u001b[1mLayer (type)                   \u001b[0m\u001b[1m \u001b[0m┃\u001b[1m \u001b[0m\u001b[1mOutput Shape          \u001b[0m\u001b[1m \u001b[0m┃\u001b[1m \u001b[0m\u001b[1m      Param #\u001b[0m\u001b[1m \u001b[0m┃\n",
                                          "┡━━━━━━━━━━━━━━━━━━━━━━━━━━━━━━━━━╇━━━━━━━━━━━━━━━━━━━━━━━━╇━━━━━━━━━━━━━━━┩\n",
                                          "│ dense_5 (\u001b[38;5;33mDense\u001b[0m)                 │ (\u001b[38;5;45mNone\u001b[0m, \u001b[38;5;34m128\u001b[0m)            │     \u001b[38;5;34m1,280,128\u001b[0m │\n",
                                          "├─────────────────────────────────┼────────────────────────┼───────────────┤\n",
                                          "│ dropout_4 (\u001b[38;5;33mDropout\u001b[0m)             │ (\u001b[38;5;45mNone\u001b[0m, \u001b[38;5;34m128\u001b[0m)            │             \u001b[38;5;34m0\u001b[0m │\n",
                                          "├─────────────────────────────────┼────────────────────────┼───────────────┤\n",
                                          "│ dense_6 (\u001b[38;5;33mDense\u001b[0m)                 │ (\u001b[38;5;45mNone\u001b[0m, \u001b[38;5;34m128\u001b[0m)            │        \u001b[38;5;34m16,512\u001b[0m │\n",
                                          "├─────────────────────────────────┼────────────────────────┼───────────────┤\n",
                                          "│ dropout_5 (\u001b[38;5;33mDropout\u001b[0m)             │ (\u001b[38;5;45mNone\u001b[0m, \u001b[38;5;34m128\u001b[0m)            │             \u001b[38;5;34m0\u001b[0m │\n",
                                          "├─────────────────────────────────┼────────────────────────┼───────────────┤\n",
                                          "│ dense_7 (\u001b[38;5;33mDense\u001b[0m)                 │ (\u001b[38;5;45mNone\u001b[0m, \u001b[38;5;34m128\u001b[0m)            │        \u001b[38;5;34m16,512\u001b[0m │\n",
                                          "├─────────────────────────────────┼────────────────────────┼───────────────┤\n",
                                          "│ dropout_6 (\u001b[38;5;33mDropout\u001b[0m)             │ (\u001b[38;5;45mNone\u001b[0m, \u001b[38;5;34m128\u001b[0m)            │             \u001b[38;5;34m0\u001b[0m │\n",
                                          "├─────────────────────────────────┼────────────────────────┼───────────────┤\n",
                                          "│ dense_8 (\u001b[38;5;33mDense\u001b[0m)                 │ (\u001b[38;5;45mNone\u001b[0m, \u001b[38;5;34m128\u001b[0m)            │        \u001b[38;5;34m16,512\u001b[0m │\n",
                                          "├─────────────────────────────────┼────────────────────────┼───────────────┤\n",
                                          "│ dropout_7 (\u001b[38;5;33mDropout\u001b[0m)             │ (\u001b[38;5;45mNone\u001b[0m, \u001b[38;5;34m128\u001b[0m)            │             \u001b[38;5;34m0\u001b[0m │\n",
                                          "├─────────────────────────────────┼────────────────────────┼───────────────┤\n",
                                          "│ dense_9 (\u001b[38;5;33mDense\u001b[0m)                 │ (\u001b[38;5;45mNone\u001b[0m, \u001b[38;5;34m6\u001b[0m)              │           \u001b[38;5;34m774\u001b[0m │\n",
                                          "└─────────────────────────────────┴────────────────────────┴───────────────┘\n"
                                    ]
                              },
                              "metadata": {},
                              "output_type": "display_data"
                        },
                        {
                              "data": {
                                    "text/html": [
                                          "<pre style=\"white-space:pre;overflow-x:auto;line-height:normal;font-family:Menlo,'DejaVu Sans Mono',consolas,'Courier New',monospace\"><span style=\"font-weight: bold\"> Total params: </span><span style=\"color: #00af00; text-decoration-color: #00af00\">1,330,438</span> (5.08 MB)\n",
                                          "</pre>\n"
                                    ],
                                    "text/plain": [
                                          "\u001b[1m Total params: \u001b[0m\u001b[38;5;34m1,330,438\u001b[0m (5.08 MB)\n"
                                    ]
                              },
                              "metadata": {},
                              "output_type": "display_data"
                        },
                        {
                              "data": {
                                    "text/html": [
                                          "<pre style=\"white-space:pre;overflow-x:auto;line-height:normal;font-family:Menlo,'DejaVu Sans Mono',consolas,'Courier New',monospace\"><span style=\"font-weight: bold\"> Trainable params: </span><span style=\"color: #00af00; text-decoration-color: #00af00\">1,330,438</span> (5.08 MB)\n",
                                          "</pre>\n"
                                    ],
                                    "text/plain": [
                                          "\u001b[1m Trainable params: \u001b[0m\u001b[38;5;34m1,330,438\u001b[0m (5.08 MB)\n"
                                    ]
                              },
                              "metadata": {},
                              "output_type": "display_data"
                        },
                        {
                              "data": {
                                    "text/html": [
                                          "<pre style=\"white-space:pre;overflow-x:auto;line-height:normal;font-family:Menlo,'DejaVu Sans Mono',consolas,'Courier New',monospace\"><span style=\"font-weight: bold\"> Non-trainable params: </span><span style=\"color: #00af00; text-decoration-color: #00af00\">0</span> (0.00 B)\n",
                                          "</pre>\n"
                                    ],
                                    "text/plain": [
                                          "\u001b[1m Non-trainable params: \u001b[0m\u001b[38;5;34m0\u001b[0m (0.00 B)\n"
                                    ]
                              },
                              "metadata": {},
                              "output_type": "display_data"
                        }
                  ],
                  "source": [
                        "optimizer = keras.optimizers.AdamW(learning_rate=5e-4, weight_decay=0.004)\n",
                        "model.compile(\n",
                        "    optimizer=optimizer,\n",
                        "    loss=\"sparse_categorical_crossentropy\",\n",
                        "    metrics=[\"accuracy\"],\n",
                        ")\n",
                        "\n",
                        "model.summary()"
                  ]
            },
            {
                  "cell_type": "markdown",
                  "id": "507de4d9",
                  "metadata": {},
                  "source": [
                        "### Fit the Model"
                  ]
            },
            {
                  "cell_type": "code",
                  "execution_count": 16,
                  "id": "975b785e",
                  "metadata": {},
                  "outputs": [
                        {
                              "name": "stdout",
                              "output_type": "stream",
                              "text": [
                                    "Epoch 1/10\n"
                              ]
                        },
                        {
                              "name": "stderr",
                              "output_type": "stream",
                              "text": [
                                    "2025-04-24 23:54:20.796996: W external/local_xla/xla/tsl/framework/cpu_allocator_impl.cc:83] Allocation of 306000000 exceeds 10% of free system memory.\n"
                              ]
                        },
                        {
                              "name": "stdout",
                              "output_type": "stream",
                              "text": [
                                    "\u001b[1m120/120\u001b[0m \u001b[32m━━━━━━━━━━━━━━━━━━━━\u001b[0m\u001b[37m\u001b[0m \u001b[1m5s\u001b[0m 29ms/step - accuracy: 0.7877 - loss: 0.8571 - val_accuracy: 0.9753 - val_loss: 0.0967\n",
                                    "Epoch 2/10\n",
                                    "\u001b[1m120/120\u001b[0m \u001b[32m━━━━━━━━━━━━━━━━━━━━\u001b[0m\u001b[37m\u001b[0m \u001b[1m4s\u001b[0m 29ms/step - accuracy: 0.9593 - loss: 0.1337 - val_accuracy: 0.9800 - val_loss: 0.0567\n",
                                    "Epoch 3/10\n",
                                    "\u001b[1m120/120\u001b[0m \u001b[32m━━━━━━━━━━━━━━━━━━━━\u001b[0m\u001b[37m\u001b[0m \u001b[1m5s\u001b[0m 29ms/step - accuracy: 0.9735 - loss: 0.0906 - val_accuracy: 0.9824 - val_loss: 0.0519\n",
                                    "Epoch 4/10\n",
                                    "\u001b[1m120/120\u001b[0m \u001b[32m━━━━━━━━━━━━━━━━━━━━\u001b[0m\u001b[37m\u001b[0m \u001b[1m4s\u001b[0m 30ms/step - accuracy: 0.9813 - loss: 0.0602 - val_accuracy: 0.9894 - val_loss: 0.0368\n",
                                    "Epoch 5/10\n",
                                    "\u001b[1m120/120\u001b[0m \u001b[32m━━━━━━━━━━━━━━━━━━━━\u001b[0m\u001b[37m\u001b[0m \u001b[1m4s\u001b[0m 30ms/step - accuracy: 0.9815 - loss: 0.0509 - val_accuracy: 0.9835 - val_loss: 0.0526\n",
                                    "Epoch 6/10\n",
                                    "\u001b[1m120/120\u001b[0m \u001b[32m━━━━━━━━━━━━━━━━━━━━\u001b[0m\u001b[37m\u001b[0m \u001b[1m4s\u001b[0m 30ms/step - accuracy: 0.9834 - loss: 0.0547 - val_accuracy: 0.9882 - val_loss: 0.0348\n",
                                    "Epoch 7/10\n",
                                    "\u001b[1m120/120\u001b[0m \u001b[32m━━━━━━━━━━━━━━━━━━━━\u001b[0m\u001b[37m\u001b[0m \u001b[1m4s\u001b[0m 32ms/step - accuracy: 0.9825 - loss: 0.0551 - val_accuracy: 0.9906 - val_loss: 0.0274\n",
                                    "Epoch 8/10\n",
                                    "\u001b[1m120/120\u001b[0m \u001b[32m━━━━━━━━━━━━━━━━━━━━\u001b[0m\u001b[37m\u001b[0m \u001b[1m4s\u001b[0m 31ms/step - accuracy: 0.9881 - loss: 0.0360 - val_accuracy: 0.9871 - val_loss: 0.0398\n",
                                    "Epoch 9/10\n",
                                    "\u001b[1m120/120\u001b[0m \u001b[32m━━━━━━━━━━━━━━━━━━━━\u001b[0m\u001b[37m\u001b[0m \u001b[1m4s\u001b[0m 32ms/step - accuracy: 0.9855 - loss: 0.0384 - val_accuracy: 0.9871 - val_loss: 0.0417\n",
                                    "Epoch 10/10\n",
                                    "\u001b[1m120/120\u001b[0m \u001b[32m━━━━━━━━━━━━━━━━━━━━\u001b[0m\u001b[37m\u001b[0m \u001b[1m4s\u001b[0m 34ms/step - accuracy: 0.9905 - loss: 0.0330 - val_accuracy: 0.9871 - val_loss: 0.0359\n"
                              ]
                        }
                  ],
                  "source": [
                        "EPOCHS = 10\n",
                        "h = model.fit(train_activations, train_colors, batch_size=64, epochs=EPOCHS, validation_split=0.1)"
                  ]
            },
            {
                  "cell_type": "markdown",
                  "id": "7dce61d4",
                  "metadata": {},
                  "source": [
                        "### Visualize Loss Trajectory"
                  ]
            },
            {
                  "cell_type": "code",
                  "execution_count": 17,
                  "id": "16f93320",
                  "metadata": {},
                  "outputs": [
                        {
                              "data": {
                                    "image/png": "[encoded data removed]",
                                    "text/plain": [
                                          "<Figure size 1000x600 with 1 Axes>"
                                    ]
                              },
                              "metadata": {},
                              "output_type": "display_data"
                        }
                  ],
                  "source": [
                        "fig, ax = plt.subplots(1, 1, figsize=(10, 6))\n",
                        "ax.plot(range(EPOCHS), h.history['val_loss'], 'o-', color='maroon', label='Validation')\n",
                        "ax.plot(range(EPOCHS), h.history['loss'], 'o-', color='black', label='Training')\n",
                        "ax.set_xlabel('Epoch')\n",
                        "ax.set_ylabel('Cross-entropy')\n",
                        "ax.legend()\n",
                        "ax.set_title('Loss Trajectory')\n",
                        "sns.despine(ax=ax)"
                  ]
            },
            {
                  "cell_type": "markdown",
                  "id": "0fa45316",
                  "metadata": {},
                  "source": [
                        "### Evaluate Model on Test Data"
                  ]
            },
            {
                  "cell_type": "code",
                  "execution_count": 18,
                  "id": "92d5cde2",
                  "metadata": {},
                  "outputs": [
                        {
                              "name": "stdout",
                              "output_type": "stream",
                              "text": [
                                    "\u001b[1m47/47\u001b[0m \u001b[32m━━━━━━━━━━━━━━━━━━━━\u001b[0m\u001b[37m\u001b[0m \u001b[1m0s\u001b[0m 5ms/step - accuracy: 0.9881 - loss: 0.0329\n"
                              ]
                        }
                  ],
                  "source": [
                        "test_loss, test_accuracy = model.evaluate(test_activations, test_colors)"
                  ]
            },
            {
                  "cell_type": "code",
                  "execution_count": 19,
                  "id": "c6b00235",
                  "metadata": {},
                  "outputs": [
                        {
                              "name": "stdout",
                              "output_type": "stream",
                              "text": [
                                    "\u001b[1m47/47\u001b[0m \u001b[32m━━━━━━━━━━━━━━━━━━━━\u001b[0m\u001b[37m\u001b[0m \u001b[1m0s\u001b[0m 4ms/step\n"
                              ]
                        },
                        {
                              "data": {
                                    "text/plain": [
                                          "<sklearn.metrics._plot.confusion_matrix.ConfusionMatrixDisplay at 0x7598d58834a0>"
                                    ]
                              },
                              "execution_count": 19,
                              "metadata": {},
                              "output_type": "execute_result"
                        },
                        {
                              "data": {
                                    "image/png": "[encoded data removed]",
                                    "text/plain": [
                                          "<Figure size 640x480 with 2 Axes>"
                                    ]
                              },
                              "metadata": {},
                              "output_type": "display_data"
                        }
                  ],
                  "source": [
                        "preds = model.predict(test_activations)\n",
                        "metrics.ConfusionMatrixDisplay.from_predictions(test_colors, preds.argmax(axis=1))"
                  ]
            },
            {
                  "cell_type": "markdown",
                  "id": "2cc3d1bd",
                  "metadata": {},
                  "source": [
                        "## Testing on Data from Abnormal Eyes"
                  ]
            },
            {
                  "cell_type": "markdown",
                  "id": "016b8c53",
                  "metadata": {},
                  "source": [
                        "### \"Damanged\" Eyes\n",
                        "\n",
                        "\"Damaged\" eyes have a chance for some cells to be dead and never activate."
                  ]
            },
            {
                  "cell_type": "markdown",
                  "id": "740ede21",
                  "metadata": {},
                  "source": [
                        "#### Generating / Loading the Cone Cells for \"Damaged\" Eyes"
                  ]
            },
            {
                  "cell_type": "code",
                  "execution_count": null,
                  "id": "beb40349",
                  "metadata": {},
                  "outputs": [],
                  "source": [
                        "GENERATE_NEW_CONE_CELLS = False\n",
                        "\n",
                        "NUM_EYES = 10\n",
                        "PROB_DEAD_CELL_STEP = 0.02\n",
                        "\n",
                        "NUM_CELLS_PER_EYE = 10000\n",
                        "\n",
                        "NUM_RED = int(NUM_CELLS_PER_EYE * PERCENT_RED)\n",
                        "NUM_GREEN = int(NUM_CELLS_PER_EYE * PERCENT_GREEN)\n",
                        "NUM_BLUE = int(NUM_CELLS_PER_EYE * PERCENT_BLUE)\n",
                        "assert(NUM_RED + NUM_GREEN + NUM_BLUE == NUM_CELLS_PER_EYE)\n",
                        "\n",
                        "if GENERATE_NEW_CONE_CELLS:\n",
                        "\n",
                        "    damaged_eyes = []\n",
                        "\n",
                        "    for i in range(NUM_EYES):\n",
                        "        RED_MU = np.random.uniform(RED_MU_LOWER, RED_MU_UPPER)\n",
                        "        GREEN_MU = np.random.uniform(GREEN_MU_LOWER, GREEN_MU_UPPER)\n",
                        "        BLUE_MU = np.random.uniform(BLUE_MU_LOWER, BLUE_MU_UPPER)\n",
                        "        PROB_DEAD_CELL = i * PROB_DEAD_CELL_STEP\n",
                        "\n",
                        "        # create the cone cells\n",
                        "        cone_cells = (\n",
                        "            generate_cone_cells(NUM_RED, RED_MU, RED_SIGMA, PROB_DEAD_CELL) +\n",
                        "            generate_cone_cells(NUM_GREEN, GREEN_MU, GREEN_SIGMA, PROB_DEAD_CELL) +\n",
                        "            generate_cone_cells(NUM_BLUE, BLUE_MU, BLUE_SIGMA, PROB_DEAD_CELL)\n",
                        "        )\n",
                        "\n",
                        "        damaged_eyes.append(cone_cells)\n",
                        "\n",
                        "        # save the cone cells\n",
                        "        with open(f\"./data/damaged_cone_cells/eye{i:02}.pkl\", \"wb\") as fp:\n",
                        "            pickle.dump(cone_cells, fp, pickle.HIGHEST_PROTOCOL)\n",
                        "\n",
                        "else:\n",
                        "\n",
                        "    damaged_eyes = []\n",
                        "\n",
                        "    for i in range(NUM_EYES):\n",
                        "        with open(f\"./data/damaged_cone_cells/eye{i:02}.pkl\", mode=\"rb\") as fp:\n",
                        "            cone_cells = pickle.load(fp)\n",
                        "            damaged_eyes.append(cone_cells)"
                  ]
            },
            {
                  "cell_type": "markdown",
                  "id": "35648fe6",
                  "metadata": {},
                  "source": [
                        "#### Testing Model on \"Damaged\" Eyes"
                  ]
            },
            {
                  "cell_type": "code",
                  "execution_count": 21,
                  "id": "d2e6329e",
                  "metadata": {},
                  "outputs": [
                        {
                              "name": "stdout",
                              "output_type": "stream",
                              "text": [
                                    "\u001b[1m4/4\u001b[0m \u001b[32m━━━━━━━━━━━━━━━━━━━━\u001b[0m\u001b[37m\u001b[0m \u001b[1m0s\u001b[0m 11ms/step - accuracy: 0.7564 - loss: 0.7443 \n",
                                    "\u001b[1m4/4\u001b[0m \u001b[32m━━━━━━━━━━━━━━━━━━━━\u001b[0m\u001b[37m\u001b[0m \u001b[1m0s\u001b[0m 9ms/step - accuracy: 0.7196 - loss: 0.8525 \n",
                                    "\u001b[1m4/4\u001b[0m \u001b[32m━━━━━━━━━━━━━━━━━━━━\u001b[0m\u001b[37m\u001b[0m \u001b[1m0s\u001b[0m 12ms/step - accuracy: 0.8426 - loss: 0.5182\n",
                                    "\u001b[1m4/4\u001b[0m \u001b[32m━━━━━━━━━━━━━━━━━━━━\u001b[0m\u001b[37m\u001b[0m \u001b[1m0s\u001b[0m 8ms/step - accuracy: 0.7908 - loss: 0.5275 \n",
                                    "\u001b[1m4/4\u001b[0m \u001b[32m━━━━━━━━━━━━━━━━━━━━\u001b[0m\u001b[37m\u001b[0m \u001b[1m0s\u001b[0m 10ms/step - accuracy: 0.7153 - loss: 0.6867\n",
                                    "\u001b[1m4/4\u001b[0m \u001b[32m━━━━━━━━━━━━━━━━━━━━\u001b[0m\u001b[37m\u001b[0m \u001b[1m0s\u001b[0m 8ms/step - accuracy: 0.7936 - loss: 0.5530 \n",
                                    "\u001b[1m4/4\u001b[0m \u001b[32m━━━━━━━━━━━━━━━━━━━━\u001b[0m\u001b[37m\u001b[0m \u001b[1m0s\u001b[0m 10ms/step - accuracy: 0.7281 - loss: 0.7756\n",
                                    "\u001b[1m4/4\u001b[0m \u001b[32m━━━━━━━━━━━━━━━━━━━━\u001b[0m\u001b[37m\u001b[0m \u001b[1m0s\u001b[0m 11ms/step - accuracy: 0.8143 - loss: 0.6137\n",
                                    "\u001b[1m4/4\u001b[0m \u001b[32m━━━━━━━━━━━━━━━━━━━━\u001b[0m\u001b[37m\u001b[0m \u001b[1m0s\u001b[0m 11ms/step - accuracy: 0.7691 - loss: 0.6654\n",
                                    "\u001b[1m4/4\u001b[0m \u001b[32m━━━━━━━━━━━━━━━━━━━━\u001b[0m\u001b[37m\u001b[0m \u001b[1m0s\u001b[0m 8ms/step - accuracy: 0.7811 - loss: 0.5202 \n"
                              ]
                        }
                  ],
                  "source": [
                        "NUM_DATA_POINTS = 100\n",
                        "MIN_WAVELENGTH = 380\n",
                        "MAX_WAVELENGTH = 750\n",
                        "\n",
                        "for cone_cells in damaged_eyes:\n",
                        "    activations, colors = sample_wavelengths(\n",
                        "        num_data_points=NUM_DATA_POINTS, \n",
                        "        cells=cone_cells, \n",
                        "        min_wl=MIN_WAVELENGTH, \n",
                        "        max_wl=MAX_WAVELENGTH,\n",
                        "    )\n",
                        "    colors = np.array(colors).astype(int)\n",
                        "\n",
                        "    model.evaluate(activations, colors)\n"
                  ]
            }
      ],
      "metadata": {
            "kernelspec": {
                  "display_name": "cognitive",
                  "language": "python",
                  "name": "python3"
            },
            "language_info": {
                  "codemirror_mode": {
                        "name": "ipython",
                        "version": 3
                  },
                  "file_extension": ".py",
                  "mimetype": "text/x-python",
                  "name": "python",
                  "nbconvert_exporter": "python",
                  "pygments_lexer": "ipython3",
                  "version": "3.12.0"
            }
      },
      "nbformat": 4,
      "nbformat_minor": 5
}
