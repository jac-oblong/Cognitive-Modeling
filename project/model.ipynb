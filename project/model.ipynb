{
 "cells": [
  {
   "cell_type": "markdown",
   "id": "31097e34",
   "metadata": {},
   "source": [
    "# Deep Learning for Cone Cells and Light Frequency"
   ]
  },
  {
   "cell_type": "code",
   "execution_count": 1,
   "id": "ef077d4a",
   "metadata": {},
   "outputs": [
    {
     "name": "stderr",
     "output_type": "stream",
     "text": [
      "2025-04-24 18:50:12.585096: I external/local_xla/xla/tsl/cuda/cudart_stub.cc:32] Could not find cuda drivers on your machine, GPU will not be used.\n",
      "2025-04-24 18:50:12.597361: I external/local_xla/xla/tsl/cuda/cudart_stub.cc:32] Could not find cuda drivers on your machine, GPU will not be used.\n",
      "2025-04-24 18:50:12.614901: E external/local_xla/xla/stream_executor/cuda/cuda_fft.cc:467] Unable to register cuFFT factory: Attempting to register factory for plugin cuFFT when one has already been registered\n",
      "WARNING: All log messages before absl::InitializeLog() is called are written to STDERR\n",
      "E0000 00:00:1745535012.653681   17322 cuda_dnn.cc:8579] Unable to register cuDNN factory: Attempting to register factory for plugin cuDNN when one has already been registered\n",
      "E0000 00:00:1745535012.665796   17322 cuda_blas.cc:1407] Unable to register cuBLAS factory: Attempting to register factory for plugin cuBLAS when one has already been registered\n",
      "W0000 00:00:1745535012.702708   17322 computation_placer.cc:177] computation placer already registered. Please check linkage and avoid linking the same target more than once.\n",
      "W0000 00:00:1745535012.702763   17322 computation_placer.cc:177] computation placer already registered. Please check linkage and avoid linking the same target more than once.\n",
      "W0000 00:00:1745535012.702769   17322 computation_placer.cc:177] computation placer already registered. Please check linkage and avoid linking the same target more than once.\n",
      "W0000 00:00:1745535012.702775   17322 computation_placer.cc:177] computation placer already registered. Please check linkage and avoid linking the same target more than once.\n",
      "2025-04-24 18:50:12.713771: I tensorflow/core/platform/cpu_feature_guard.cc:210] This TensorFlow binary is optimized to use available CPU instructions in performance-critical operations.\n",
      "To enable the following instructions: AVX2 FMA, in other operations, rebuild TensorFlow with the appropriate compiler flags.\n",
      "/root/anaconda3/envs/cognitive/lib/python3.12/site-packages/numpy/core/getlimits.py:542: UserWarning: Signature b'\\x00\\xd0\\xcc\\xcc\\xcc\\xcc\\xcc\\xcc\\xfb\\xbf\\x00\\x00\\x00\\x00\\x00\\x00' for <class 'numpy.longdouble'> does not match any known type: falling back to type probe function.\n",
      "This warnings indicates broken support for the dtype!\n",
      "  machar = _get_machar(dtype)\n"
     ]
    }
   ],
   "source": [
    "import numpy as np\n",
    "import matplotlib.pyplot as plt\n",
    "import seaborn as sns\n",
    "from tqdm.notebook import tqdm\n",
    "\n",
    "\n",
    "np.set_printoptions(suppress=True)\n",
    "\n",
    "import sklearn.metrics as metrics\n",
    "\n",
    "import tensorflow as tf\n",
    "from tensorflow import keras"
   ]
  },
  {
   "cell_type": "markdown",
   "id": "e83b5226",
   "metadata": {},
   "source": [
    "## Loading the Simulation Data"
   ]
  },
  {
   "cell_type": "code",
   "execution_count": 2,
   "id": "6a39b608",
   "metadata": {},
   "outputs": [],
   "source": [
    "WAVELENGTH_BINS = 10\n",
    "train_cone_cells = train_wavelengths = test_cone_cells = test_wavelenghts = None"
   ]
  },
  {
   "cell_type": "markdown",
   "id": "a2341a19",
   "metadata": {},
   "source": [
    "## Feedforward Network Architecture"
   ]
  },
  {
   "cell_type": "markdown",
   "id": "67d75970",
   "metadata": {},
   "source": [
    "### Model Setup"
   ]
  },
  {
   "cell_type": "code",
   "execution_count": 3,
   "id": "78c25c4b",
   "metadata": {},
   "outputs": [
    {
     "ename": "AttributeError",
     "evalue": "'NoneType' object has no attribute 'shape'",
     "output_type": "error",
     "traceback": [
      "\u001b[31m---------------------------------------------------------------------------\u001b[39m",
      "\u001b[31mAttributeError\u001b[39m                            Traceback (most recent call last)",
      "\u001b[36mCell\u001b[39m\u001b[36m \u001b[39m\u001b[32mIn[3]\u001b[39m\u001b[32m, line 2\u001b[39m\n\u001b[32m      1\u001b[39m model = keras.Sequential([\n\u001b[32m----> \u001b[39m\u001b[32m2\u001b[39m     keras.Input(shape=(\u001b[43mtrain_cone_cells\u001b[49m\u001b[43m.\u001b[49m\u001b[43mshape\u001b[49m[-\u001b[32m1\u001b[39m], )),\n\u001b[32m      3\u001b[39m     keras.layers.Dense(units=\u001b[32m128\u001b[39m, activation=\u001b[33m\"\u001b[39m\u001b[33msilu\u001b[39m\u001b[33m\"\u001b[39m),\n\u001b[32m      4\u001b[39m     keras.layers.Dropout(\u001b[32m0.2\u001b[39m),\n\u001b[32m      5\u001b[39m     keras.layers.Dense(units=\u001b[32m128\u001b[39m, activation=\u001b[33m\"\u001b[39m\u001b[33msilu\u001b[39m\u001b[33m\"\u001b[39m),\n\u001b[32m      6\u001b[39m     keras.layers.Dropout(\u001b[32m0.2\u001b[39m),\n\u001b[32m      7\u001b[39m     keras.layers.Dense(units=\u001b[32m128\u001b[39m, activation=\u001b[33m\"\u001b[39m\u001b[33msilu\u001b[39m\u001b[33m\"\u001b[39m),\n\u001b[32m      8\u001b[39m     keras.layers.Dropout(\u001b[32m0.2\u001b[39m),\n\u001b[32m      9\u001b[39m     keras.layers.Dense(units=\u001b[32m128\u001b[39m, activation=\u001b[33m\"\u001b[39m\u001b[33msilu\u001b[39m\u001b[33m\"\u001b[39m),\n\u001b[32m     10\u001b[39m     keras.layers.Dropout(\u001b[32m0.2\u001b[39m),\n\u001b[32m     11\u001b[39m     keras.layers.Dense(units=WAVELENGTH_BINS, activation=\u001b[33m\"\u001b[39m\u001b[33msoftmax\u001b[39m\u001b[33m\"\u001b[39m),\n\u001b[32m     12\u001b[39m ])\n",
      "\u001b[31mAttributeError\u001b[39m: 'NoneType' object has no attribute 'shape'"
     ]
    }
   ],
   "source": [
    "model = keras.Sequential([\n",
    "    keras.Input(shape=(train_cone_cells.shape[-1], )),\n",
    "    keras.layers.Dense(units=128, activation=\"silu\"),\n",
    "    keras.layers.Dropout(0.2),\n",
    "    keras.layers.Dense(units=128, activation=\"silu\"),\n",
    "    keras.layers.Dropout(0.2),\n",
    "    keras.layers.Dense(units=128, activation=\"silu\"),\n",
    "    keras.layers.Dropout(0.2),\n",
    "    keras.layers.Dense(units=128, activation=\"silu\"),\n",
    "    keras.layers.Dropout(0.2),\n",
    "    keras.layers.Dense(units=WAVELENGTH_BINS, activation=\"softmax\"),\n",
    "])"
   ]
  },
  {
   "cell_type": "markdown",
   "id": "18550a54",
   "metadata": {},
   "source": [
    "### Compile Model"
   ]
  },
  {
   "cell_type": "code",
   "execution_count": null,
   "id": "7e280bfb",
   "metadata": {},
   "outputs": [],
   "source": [
    "optimizer = keras.optimizers.AdamW(learning_rate=5e-4, weight_decay=0.004)\n",
    "model.compile(\n",
    "    optimizer=optimizer,\n",
    "    loss=\"sparse_categorical_crossentropy\",\n",
    "    metrics=[\"accuracy\"],\n",
    ")\n",
    "\n",
    "model.summary()"
   ]
  },
  {
   "cell_type": "markdown",
   "id": "507de4d9",
   "metadata": {},
   "source": [
    "### Fit the Model"
   ]
  },
  {
   "cell_type": "code",
   "execution_count": null,
   "id": "975b785e",
   "metadata": {},
   "outputs": [],
   "source": [
    "EPOCHS = 30\n",
    "h = model.fit(train_cone_cells, train_wavelengths, batch=64, epochs=EPOCHS, validation_split=0.1)"
   ]
  },
  {
   "cell_type": "markdown",
   "id": "7dce61d4",
   "metadata": {},
   "source": [
    "### Visualize Loss Trajectory"
   ]
  },
  {
   "cell_type": "code",
   "execution_count": null,
   "id": "16f93320",
   "metadata": {},
   "outputs": [],
   "source": [
    "fig, ax = plt.subplots(1, 1, figsize=(10, 6))\n",
    "ax.plot(range(EPOCHS), h.history['val_loss'], 'o-', color='maroon', label='Validation')\n",
    "ax.plot(range(EPOCHS), h.history['loss'], 'o-', color='black', label='Training')\n",
    "ax.set_xlabel('Epoch')\n",
    "ax.set_ylabel('Cross-entropy')\n",
    "ax.legend()\n",
    "ax.set_title('Loss Trajectory')\n",
    "sns.despine(ax=ax)"
   ]
  },
  {
   "cell_type": "markdown",
   "id": "0fa45316",
   "metadata": {},
   "source": [
    "### Evaluate Model on Test Data"
   ]
  },
  {
   "cell_type": "code",
   "execution_count": null,
   "id": "92d5cde2",
   "metadata": {},
   "outputs": [],
   "source": [
    "test_loss, test_accuracy = model.evaluate(test_cone_cells, test_wavelengths)"
   ]
  },
  {
   "cell_type": "code",
   "execution_count": null,
   "id": "c6b00235",
   "metadata": {},
   "outputs": [],
   "source": [
    "preds = model.predict(test_images)\n",
    "metrics.ConfusionMatrixDisplay.from_predictions(test_labels, preds.argmax(axis=1))"
   ]
  }
 ],
 "metadata": {
  "kernelspec": {
   "display_name": "cognitive",
   "language": "python",
   "name": "python3"
  },
  "language_info": {
   "codemirror_mode": {
    "name": "ipython",
    "version": 3
   },
   "file_extension": ".py",
   "mimetype": "text/x-python",
   "name": "python",
   "nbconvert_exporter": "python",
   "pygments_lexer": "ipython3",
   "version": "3.12.0"
  }
 },
 "nbformat": 4,
 "nbformat_minor": 5
}
