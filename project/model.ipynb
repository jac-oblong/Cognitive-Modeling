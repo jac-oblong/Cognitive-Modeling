{
 "cells": [
  {
   "cell_type": "markdown",
   "id": "31097e34",
   "metadata": {},
   "source": [
    "# Deep Learning for Cone Cells and Light Frequency"
   ]
  },
  {
   "cell_type": "code",
   "execution_count": 12,
   "id": "ef077d4a",
   "metadata": {},
   "outputs": [],
   "source": [
    "import numpy as np\n",
    "import matplotlib.pyplot as plt\n",
    "import seaborn as sns\n",
    "from tqdm.notebook import tqdm\n",
    "\n",
    "\n",
    "np.set_printoptions(suppress=True)\n",
    "\n",
    "import sklearn.metrics as metrics\n",
    "\n",
    "import tensorflow as tf\n",
    "from tensorflow import keras\n",
    "\n",
    "import pickle\n",
    "\n",
    "from simulator_lib import *"
   ]
  },
  {
   "cell_type": "markdown",
   "id": "8cfe116a",
   "metadata": {},
   "source": [
    "## Generating the Simulation Data"
   ]
  },
  {
   "cell_type": "code",
   "execution_count": null,
   "id": "a550e0c8",
   "metadata": {},
   "outputs": [],
   "source": [
    "TOTAL_NUM_CELLS = 10000\n",
    "NUM_RED = int(TOTAL_NUM_CELLS * PERCENT_RED)\n",
    "NUM_GREEN = int(TOTAL_NUM_CELLS * PERCENT_GREEN)\n",
    "NUM_BLUE = int(TOTAL_NUM_CELLS * PERCENT_BLUE)\n",
    "assert(NUM_RED + NUM_GREEN + NUM_BLUE == TOTAL_NUM_CELLS)\n",
    "\n",
    "# create the cone cells\n",
    "cone_cells = (\n",
    "    generate_cone_cells(NUM_RED, RED_MU, RED_SIGMA) +\n",
    "    generate_cone_cells(NUM_GREEN, GREEN_MU, GREEN_SIGMA) +\n",
    "    generate_cone_cells(NUM_BLUE, BLUE_MU, BLUE_SIGMA)\n",
    ")\n",
    "\n",
    "# save the cone cells (uncomment to generate new cone cells)\n",
    "#with open(\"./data/cone_cells_normal.pkl\", \"wb\") as fp:\n",
    "#    pickle.dump(cone_cells, fp, pickle.HIGHEST_PROTOCOL)"
   ]
  },
  {
   "cell_type": "markdown",
   "id": "e83b5226",
   "metadata": {},
   "source": [
    "## Loading the Simulation Data"
   ]
  },
  {
   "cell_type": "code",
   "execution_count": null,
   "id": "6a39b608",
   "metadata": {},
   "outputs": [],
   "source": []
  },
  {
   "cell_type": "markdown",
   "id": "a2341a19",
   "metadata": {},
   "source": [
    "## Feedforward Network Architecture"
   ]
  },
  {
   "cell_type": "markdown",
   "id": "67d75970",
   "metadata": {},
   "source": [
    "### Model Setup"
   ]
  },
  {
   "cell_type": "code",
   "execution_count": null,
   "id": "78c25c4b",
   "metadata": {},
   "outputs": [],
   "source": [
    "model = keras.Sequential([\n",
    "    keras.Input(shape=(train_cone_cells.shape[-1], )),\n",
    "    keras.layers.Dense(units=128, activation=\"silu\"),\n",
    "    keras.layers.Dropout(0.2),\n",
    "    keras.layers.Dense(units=128, activation=\"silu\"),\n",
    "    keras.layers.Dropout(0.2),\n",
    "    keras.layers.Dense(units=128, activation=\"silu\"),\n",
    "    keras.layers.Dropout(0.2),\n",
    "    keras.layers.Dense(units=128, activation=\"silu\"),\n",
    "    keras.layers.Dropout(0.2),\n",
    "    keras.layers.Dense(units=WAVELENGTH_BINS, activation=\"softmax\"),\n",
    "])"
   ]
  },
  {
   "cell_type": "markdown",
   "id": "18550a54",
   "metadata": {},
   "source": [
    "### Compile Model"
   ]
  },
  {
   "cell_type": "code",
   "execution_count": null,
   "id": "7e280bfb",
   "metadata": {},
   "outputs": [],
   "source": [
    "optimizer = keras.optimizers.AdamW(learning_rate=5e-4, weight_decay=0.004)\n",
    "model.compile(\n",
    "    optimizer=optimizer,\n",
    "    loss=\"sparse_categorical_crossentropy\",\n",
    "    metrics=[\"accuracy\"],\n",
    ")\n",
    "\n",
    "model.summary()"
   ]
  },
  {
   "cell_type": "markdown",
   "id": "507de4d9",
   "metadata": {},
   "source": [
    "### Fit the Model"
   ]
  },
  {
   "cell_type": "code",
   "execution_count": null,
   "id": "975b785e",
   "metadata": {},
   "outputs": [],
   "source": [
    "EPOCHS = 30\n",
    "h = model.fit(train_cone_cells, train_wavelengths, batch=64, epochs=EPOCHS, validation_split=0.1)"
   ]
  },
  {
   "cell_type": "markdown",
   "id": "7dce61d4",
   "metadata": {},
   "source": [
    "### Visualize Loss Trajectory"
   ]
  },
  {
   "cell_type": "code",
   "execution_count": null,
   "id": "16f93320",
   "metadata": {},
   "outputs": [],
   "source": [
    "fig, ax = plt.subplots(1, 1, figsize=(10, 6))\n",
    "ax.plot(range(EPOCHS), h.history['val_loss'], 'o-', color='maroon', label='Validation')\n",
    "ax.plot(range(EPOCHS), h.history['loss'], 'o-', color='black', label='Training')\n",
    "ax.set_xlabel('Epoch')\n",
    "ax.set_ylabel('Cross-entropy')\n",
    "ax.legend()\n",
    "ax.set_title('Loss Trajectory')\n",
    "sns.despine(ax=ax)"
   ]
  },
  {
   "cell_type": "markdown",
   "id": "0fa45316",
   "metadata": {},
   "source": [
    "### Evaluate Model on Test Data"
   ]
  },
  {
   "cell_type": "code",
   "execution_count": null,
   "id": "92d5cde2",
   "metadata": {},
   "outputs": [],
   "source": [
    "test_loss, test_accuracy = model.evaluate(test_cone_cells, test_wavelengths)"
   ]
  },
  {
   "cell_type": "code",
   "execution_count": null,
   "id": "c6b00235",
   "metadata": {},
   "outputs": [],
   "source": [
    "preds = model.predict(test_images)\n",
    "metrics.ConfusionMatrixDisplay.from_predictions(test_labels, preds.argmax(axis=1))"
   ]
  }
 ],
 "metadata": {
  "kernelspec": {
   "display_name": "cogmod",
   "language": "python",
   "name": "python3"
  },
  "language_info": {
   "codemirror_mode": {
    "name": "ipython",
    "version": 3
   },
   "file_extension": ".py",
   "mimetype": "text/x-python",
   "name": "python",
   "nbconvert_exporter": "python",
   "pygments_lexer": "ipython3",
   "version": "3.12.0"
  }
 },
 "nbformat": 4,
 "nbformat_minor": 5
}
