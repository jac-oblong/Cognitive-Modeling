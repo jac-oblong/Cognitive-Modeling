{
    "cells": [
        {
            "cell_type": "code",
            "execution_count": 32,
            "metadata": {},
            "outputs": [],
            "source": [
                "import numpy as np\n",
                "import matplotlib.pyplot as plt\n",
                "import seaborn as sns\n",
                "import scipy\n",
                "\n",
                "import stan\n",
                "\n",
                "try:\n",
                "    import arviz as az\n",
                "except ImportError as err:\n",
                "    print(\"Please, install arviz for easy visualization of Stan models.\")\n",
                "\n",
                "import nest_asyncio\n",
                "nest_asyncio.apply()"
            ]
        },
        {
            "cell_type": "markdown",
            "metadata": {},
            "source": [
                "### Normal-Normal\n",
                "As a simple case of this distribution, we will model the expected number of berries on a branch. We predict initially an average of 15 berries with a standard deviation of 3.\n",
                "\n",
                "Prior:\n",
                "$p(\\mu) = N(\\mu | \\mu_0, \\sigma_0)$,\n",
                "where \n",
                "$\\mu_0 = 15, \\sigma_0 = 3$\n",
                "\n",
                "Likelihood:\n",
                "$p(y | \\mu, \\sigma^2) = N(y | \\mu, \\sigma^2)$"
            ]
        },
        {
            "cell_type": "code",
            "execution_count": 40,
            "metadata": {},
            "outputs": [
                {
                    "data": {
                        "text/plain": [
                            "<Axes: ylabel='Count'>"
                        ]
                    },
                    "execution_count": 40,
                    "metadata": {},
                    "output_type": "execute_result"
                },
                {
                    "data": {
                        "image/png": "[encoded data removed]",
                        "text/plain": [
                            "<Figure size 640x480 with 1 Axes>"
                        ]
                    },
                    "metadata": {},
                    "output_type": "display_data"
                }
            ],
            "source": [
                "### Simulate data\n",
                "mu_0 = 15\n",
                "sigma_0 = 3\n",
                "sigma_2 = 9\n",
                "N = 500\n",
                "pre_mu = np.random.normal(mu_0, sigma_0, size=N)\n",
                "y = np.random.normal(pre_mu, sigma_2)\n",
                "\n",
                "# example of prior distribution\n",
                "sns.histplot(pre_mu, color='gray')"
            ]
        },
        {
            "cell_type": "code",
            "execution_count": 41,
            "metadata": {},
            "outputs": [],
            "source": [
                "### Create data dictionary\n",
                "data_dict = {\n",
                "    'y': y,\n",
                "    'N': N\n",
                "}"
            ]
        },
        {
            "cell_type": "code",
            "execution_count": 42,
            "metadata": {},
            "outputs": [],
            "source": [
                "program_code = \"\"\"\n",
                "\n",
                "data {\n",
                "    int<lower=1> N;\n",
                "    vector[N] y;\n",
                "}\n",
                "\n",
                "parameters {\n",
                "    real mu;\n",
                "}\n",
                "\n",
                "model {\n",
                "    // Priors\n",
                "    mu ~ normal(5, 3);          // mu_0 = 0, sigma_0 = 3\n",
                "\n",
                "    // Data model (likelihood)\n",
                "    for (n in 1:N) {\n",
                "        y[n] ~ normal(mu, 9);   // sigma_2 = 9\n",
                "    }\n",
                "}\n",
                "\n",
                "\"\"\""
            ]
        },
        {
            "cell_type": "code",
            "execution_count": 43,
            "metadata": {},
            "outputs": [
                {
                    "name": "stdout",
                    "output_type": "stream",
                    "text": [
                        "Building...\n"
                    ]
                },
                {
                    "name": "stderr",
                    "output_type": "stream",
                    "text": [
                        "\n",
                        "Building: found in cache, done."
                    ]
                }
            ],
            "source": [
                "model = stan.build(program_code, data=data_dict)"
            ]
        },
        {
            "cell_type": "code",
            "execution_count": 44,
            "metadata": {},
            "outputs": [
                {
                    "name": "stderr",
                    "output_type": "stream",
                    "text": [
                        "Sampling:   0%\n",
                        "Sampling:  25% (1500/6000)\n",
                        "Sampling:  50% (3000/6000)\n",
                        "Sampling:  75% (4500/6000)\n",
                        "Sampling: 100% (6000/6000)\n",
                        "Sampling: 100% (6000/6000), done.\n",
                        "Messages received during sampling:\n",
                        "  Gradient evaluation took 0.00012 seconds\n",
                        "  1000 transitions using 10 leapfrog steps per transition would take 1.2 seconds.\n",
                        "  Adjust your expectations accordingly!\n",
                        "  Gradient evaluation took 0.000129 seconds\n",
                        "  1000 transitions using 10 leapfrog steps per transition would take 1.29 seconds.\n",
                        "  Adjust your expectations accordingly!\n",
                        "  Gradient evaluation took 0.000137 seconds\n",
                        "  1000 transitions using 10 leapfrog steps per transition would take 1.37 seconds.\n",
                        "  Adjust your expectations accordingly!\n",
                        "  Gradient evaluation took 0.000124 seconds\n",
                        "  1000 transitions using 10 leapfrog steps per transition would take 1.24 seconds.\n",
                        "  Adjust your expectations accordingly!\n"
                    ]
                }
            ],
            "source": [
                "fit = model.sample(num_chains=4, num_samples=1000, num_warmup=500)"
            ]
        },
        {
            "cell_type": "code",
            "execution_count": 45,
            "metadata": {},
            "outputs": [
                {
                    "data": {
                        "text/html": [
                            "<div>\n",
                            "<style scoped>\n",
                            "    .dataframe tbody tr th:only-of-type {\n",
                            "        vertical-align: middle;\n",
                            "    }\n",
                            "\n",
                            "    .dataframe tbody tr th {\n",
                            "        vertical-align: top;\n",
                            "    }\n",
                            "\n",
                            "    .dataframe thead th {\n",
                            "        text-align: right;\n",
                            "    }\n",
                            "</style>\n",
                            "<table border=\"1\" class=\"dataframe\">\n",
                            "  <thead>\n",
                            "    <tr style=\"text-align: right;\">\n",
                            "      <th></th>\n",
                            "      <th>mean</th>\n",
                            "      <th>sd</th>\n",
                            "      <th>hdi_3%</th>\n",
                            "      <th>hdi_97%</th>\n",
                            "      <th>mcse_mean</th>\n",
                            "      <th>mcse_sd</th>\n",
                            "      <th>ess_bulk</th>\n",
                            "      <th>ess_tail</th>\n",
                            "      <th>r_hat</th>\n",
                            "    </tr>\n",
                            "  </thead>\n",
                            "  <tbody>\n",
                            "    <tr>\n",
                            "      <th>mu</th>\n",
                            "      <td>14.383</td>\n",
                            "      <td>0.397</td>\n",
                            "      <td>13.67</td>\n",
                            "      <td>15.158</td>\n",
                            "      <td>0.01</td>\n",
                            "      <td>0.007</td>\n",
                            "      <td>1503.0</td>\n",
                            "      <td>1985.0</td>\n",
                            "      <td>1.0</td>\n",
                            "    </tr>\n",
                            "  </tbody>\n",
                            "</table>\n",
                            "</div>"
                        ],
                        "text/plain": [
                            "      mean     sd  hdi_3%  hdi_97%  mcse_mean  mcse_sd  ess_bulk  ess_tail  \\\n",
                            "mu  14.383  0.397   13.67   15.158       0.01    0.007    1503.0    1985.0   \n",
                            "\n",
                            "    r_hat  \n",
                            "mu    1.0  "
                        ]
                    },
                    "execution_count": 45,
                    "metadata": {},
                    "output_type": "execute_result"
                }
            ],
            "source": [
                "### Explore raw model outouts\n",
                "results_df = fit.to_frame()\n",
                "\n",
                "az.summary(fit)"
            ]
        },
        {
            "cell_type": "code",
            "execution_count": 46,
            "metadata": {},
            "outputs": [
                {
                    "data": {
                        "text/plain": [
                            "<matplotlib.legend.Legend at 0x7f47885f6af0>"
                        ]
                    },
                    "execution_count": 46,
                    "metadata": {},
                    "output_type": "execute_result"
                },
                {
                    "data": {
                        "image/png": "[encoded data removed]",
                        "text/plain": [
                            "<Figure size 800x400 with 1 Axes>"
                        ]
                    },
                    "metadata": {},
                    "output_type": "display_data"
                }
            ],
            "source": [
                "# plot prior vs posterior\n",
                "prior_samples = np.random.normal(mu_0, sigma_0, size=4000)\n",
                "post_samples = results_df.mu.values\n",
                "f, ax = plt.subplots(1, 1, figsize=(8, 4))\n",
                "sns.histplot(prior_samples, color='gray', ax=ax, alpha=0.8, label=\"Prior\")\n",
                "sns.histplot(post_samples, color='maroon', ax=ax, label=\"Posterior\")\n",
                "ax.axvline(np.mean(post_samples), color='blue', linestyle='dotted', lw=4)\n",
                "sns.despine()\n",
                "ax.legend()"
            ]
        }
    ],
    "metadata": {
        "kernelspec": {
            "display_name": ".venv",
            "language": "python",
            "name": "python3"
        },
        "language_info": {
            "codemirror_mode": {
                "name": "ipython",
                "version": 3
            },
            "file_extension": ".py",
            "mimetype": "text/x-python",
            "name": "python",
            "nbconvert_exporter": "python",
            "pygments_lexer": "ipython3",
            "version": "3.8.10"
        }
    },
    "nbformat": 4,
    "nbformat_minor": 2
}
