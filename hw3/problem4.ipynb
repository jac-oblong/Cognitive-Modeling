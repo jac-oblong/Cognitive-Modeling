{
    "cells": [
        {
            "cell_type": "code",
            "execution_count": 22,
            "metadata": {},
            "outputs": [],
            "source": [
                "import numpy as np\n",
                "import matplotlib.pyplot as plt\n",
                "import seaborn as sns\n",
                "import scipy\n",
                "\n",
                "import stan\n",
                "\n",
                "try:\n",
                "    import arviz as az\n",
                "except ImportError as err:\n",
                "    print(\"Please, install arviz for easy visualization of Stan models.\")\n",
                "\n",
                "import nest_asyncio\n",
                "nest_asyncio.apply()"
            ]
        },
        {
            "cell_type": "code",
            "execution_count": 23,
            "metadata": {},
            "outputs": [
                {
                    "data": {
                        "text/plain": [
                            "<Axes: ylabel='Count'>"
                        ]
                    },
                    "execution_count": 23,
                    "metadata": {},
                    "output_type": "execute_result"
                },
                {
                    "data": {
                        "image/png": "[encoded data removed]",
                        "text/plain": [
                            "<Figure size 640x480 with 1 Axes>"
                        ]
                    },
                    "metadata": {},
                    "output_type": "display_data"
                }
            ],
            "source": [
                "### Simulate data\n",
                "mu_0 = 5\n",
                "sigma_0 = 3\n",
                "sigma_2 = 9\n",
                "N = 500\n",
                "pre_mu = np.random.normal(mu_0, sigma_0, size=N)\n",
                "y = np.random.normal(pre_mu, sigma_2)\n",
                "\n",
                "sns.histplot(pre_mu, color='gray')"
            ]
        },
        {
            "cell_type": "code",
            "execution_count": 24,
            "metadata": {},
            "outputs": [],
            "source": [
                "### Create data dictionary\n",
                "data_dict = {\n",
                "    'y': y,\n",
                "    'N': N\n",
                "}"
            ]
        },
        {
            "cell_type": "code",
            "execution_count": null,
            "metadata": {},
            "outputs": [],
            "source": [
                "program_code = \"\"\"\n",
                "\n",
                "data {\n",
                "    int<lower=1> N;\n",
                "    vector[N] y;\n",
                "}\n",
                "\n",
                "parameters {\n",
                "    real mu;\n",
                "}\n",
                "\n",
                "model {\n",
                "    // Priors\n",
                "    mu ~ normal(5, 3);          // mu_0 = 5, sigma_0 = 3\n",
                "\n",
                "    // Data model (likelihood)\n",
                "    for (n in 1:N) {\n",
                "        y[n] ~ normal(mu, 9);\n",
                "    }\n",
                "}\n",
                "\n",
                "\"\"\""
            ]
        },
        {
            "cell_type": "code",
            "execution_count": 26,
            "metadata": {},
            "outputs": [
                {
                    "name": "stdout",
                    "output_type": "stream",
                    "text": [
                        "Building...\n"
                    ]
                },
                {
                    "name": "stderr",
                    "output_type": "stream",
                    "text": [
                        "\n",
                        "Building: found in cache, done."
                    ]
                }
            ],
            "source": [
                "model = stan.build(program_code, data=data_dict)"
            ]
        },
        {
            "cell_type": "code",
            "execution_count": 27,
            "metadata": {},
            "outputs": [
                {
                    "name": "stderr",
                    "output_type": "stream",
                    "text": [
                        "Sampling:   0%\n",
                        "Sampling:  25% (1500/6000)\n",
                        "Sampling:  50% (3000/6000)\n",
                        "Sampling:  75% (4500/6000)\n",
                        "Sampling: 100% (6000/6000)\n",
                        "Sampling: 100% (6000/6000), done.\n",
                        "Messages received during sampling:\n",
                        "  Gradient evaluation took 0.000171 seconds\n",
                        "  1000 transitions using 10 leapfrog steps per transition would take 1.71 seconds.\n",
                        "  Adjust your expectations accordingly!\n",
                        "  Gradient evaluation took 0.000145 seconds\n",
                        "  1000 transitions using 10 leapfrog steps per transition would take 1.45 seconds.\n",
                        "  Adjust your expectations accordingly!\n",
                        "  Gradient evaluation took 0.000146 seconds\n",
                        "  1000 transitions using 10 leapfrog steps per transition would take 1.46 seconds.\n",
                        "  Adjust your expectations accordingly!\n",
                        "  Gradient evaluation took 0.000146 seconds\n",
                        "  1000 transitions using 10 leapfrog steps per transition would take 1.46 seconds.\n",
                        "  Adjust your expectations accordingly!\n"
                    ]
                }
            ],
            "source": [
                "fit = model.sample(num_chains=4, num_samples=1000, num_warmup=500)"
            ]
        },
        {
            "cell_type": "code",
            "execution_count": 28,
            "metadata": {},
            "outputs": [
                {
                    "data": {
                        "text/html": [
                            "<div>\n",
                            "<style scoped>\n",
                            "    .dataframe tbody tr th:only-of-type {\n",
                            "        vertical-align: middle;\n",
                            "    }\n",
                            "\n",
                            "    .dataframe tbody tr th {\n",
                            "        vertical-align: top;\n",
                            "    }\n",
                            "\n",
                            "    .dataframe thead th {\n",
                            "        text-align: right;\n",
                            "    }\n",
                            "</style>\n",
                            "<table border=\"1\" class=\"dataframe\">\n",
                            "  <thead>\n",
                            "    <tr style=\"text-align: right;\">\n",
                            "      <th>parameters</th>\n",
                            "      <th>lp__</th>\n",
                            "      <th>accept_stat__</th>\n",
                            "      <th>stepsize__</th>\n",
                            "      <th>treedepth__</th>\n",
                            "      <th>n_leapfrog__</th>\n",
                            "      <th>divergent__</th>\n",
                            "      <th>energy__</th>\n",
                            "      <th>mu</th>\n",
                            "    </tr>\n",
                            "    <tr>\n",
                            "      <th>draws</th>\n",
                            "      <th></th>\n",
                            "      <th></th>\n",
                            "      <th></th>\n",
                            "      <th></th>\n",
                            "      <th></th>\n",
                            "      <th></th>\n",
                            "      <th></th>\n",
                            "      <th></th>\n",
                            "    </tr>\n",
                            "  </thead>\n",
                            "  <tbody>\n",
                            "    <tr>\n",
                            "      <th>0</th>\n",
                            "      <td>-261.229691</td>\n",
                            "      <td>0.562091</td>\n",
                            "      <td>1.130117</td>\n",
                            "      <td>1.0</td>\n",
                            "      <td>3.0</td>\n",
                            "      <td>0.0</td>\n",
                            "      <td>263.775942</td>\n",
                            "      <td>5.377313</td>\n",
                            "    </tr>\n",
                            "    <tr>\n",
                            "      <th>1</th>\n",
                            "      <td>-261.199948</td>\n",
                            "      <td>0.893215</td>\n",
                            "      <td>0.824838</td>\n",
                            "      <td>2.0</td>\n",
                            "      <td>3.0</td>\n",
                            "      <td>0.0</td>\n",
                            "      <td>262.122722</td>\n",
                            "      <td>5.258181</td>\n",
                            "    </tr>\n",
                            "    <tr>\n",
                            "      <th>2</th>\n",
                            "      <td>-261.241290</td>\n",
                            "      <td>1.000000</td>\n",
                            "      <td>0.992212</td>\n",
                            "      <td>1.0</td>\n",
                            "      <td>1.0</td>\n",
                            "      <td>0.0</td>\n",
                            "      <td>261.264691</td>\n",
                            "      <td>5.161606</td>\n",
                            "    </tr>\n",
                            "    <tr>\n",
                            "      <th>3</th>\n",
                            "      <td>-261.198805</td>\n",
                            "      <td>0.997287</td>\n",
                            "      <td>1.374057</td>\n",
                            "      <td>2.0</td>\n",
                            "      <td>3.0</td>\n",
                            "      <td>0.0</td>\n",
                            "      <td>261.228442</td>\n",
                            "      <td>5.283473</td>\n",
                            "    </tr>\n",
                            "    <tr>\n",
                            "      <th>4</th>\n",
                            "      <td>-261.468169</td>\n",
                            "      <td>0.925128</td>\n",
                            "      <td>1.130117</td>\n",
                            "      <td>1.0</td>\n",
                            "      <td>3.0</td>\n",
                            "      <td>0.0</td>\n",
                            "      <td>261.674335</td>\n",
                            "      <td>4.985169</td>\n",
                            "    </tr>\n",
                            "  </tbody>\n",
                            "</table>\n",
                            "</div>"
                        ],
                        "text/plain": [
                            "parameters        lp__  accept_stat__  stepsize__  treedepth__  n_leapfrog__  \\\n",
                            "draws                                                                          \n",
                            "0          -261.229691       0.562091    1.130117          1.0           3.0   \n",
                            "1          -261.199948       0.893215    0.824838          2.0           3.0   \n",
                            "2          -261.241290       1.000000    0.992212          1.0           1.0   \n",
                            "3          -261.198805       0.997287    1.374057          2.0           3.0   \n",
                            "4          -261.468169       0.925128    1.130117          1.0           3.0   \n",
                            "\n",
                            "parameters  divergent__    energy__        mu  \n",
                            "draws                                          \n",
                            "0                   0.0  263.775942  5.377313  \n",
                            "1                   0.0  262.122722  5.258181  \n",
                            "2                   0.0  261.264691  5.161606  \n",
                            "3                   0.0  261.228442  5.283473  \n",
                            "4                   0.0  261.674335  4.985169  "
                        ]
                    },
                    "execution_count": 28,
                    "metadata": {},
                    "output_type": "execute_result"
                }
            ],
            "source": [
                "### Explore raw model outouts\n",
                "results_df = fit.to_frame()\n",
                "\n",
                "results_df.head()"
            ]
        },
        {
            "cell_type": "code",
            "execution_count": 29,
            "metadata": {},
            "outputs": [
                {
                    "data": {
                        "text/plain": [
                            "<matplotlib.legend.Legend at 0x7f479c8ceee0>"
                        ]
                    },
                    "execution_count": 29,
                    "metadata": {},
                    "output_type": "execute_result"
                },
                {
                    "data": {
                        "image/png": "[encoded data removed]",
                        "text/plain": [
                            "<Figure size 800x400 with 1 Axes>"
                        ]
                    },
                    "metadata": {},
                    "output_type": "display_data"
                }
            ],
            "source": [
                "prior_samples = np.random.normal(mu_0, sigma_0, size=4000)\n",
                "post_samples = results_df.mu.values\n",
                "f, ax = plt.subplots(1, 1, figsize=(8, 4))\n",
                "sns.histplot(prior_samples, color='gray', ax=ax, alpha=0.8, label=\"Prior\")\n",
                "sns.histplot(post_samples, color='maroon', ax=ax, label=\"Posterior\")\n",
                "ax.axvline(np.mean(post_samples), color='blue', linestyle='dotted', lw=4)\n",
                "sns.despine()\n",
                "ax.legend()"
            ]
        }
    ],
    "metadata": {
        "kernelspec": {
            "display_name": ".venv",
            "language": "python",
            "name": "python3"
        },
        "language_info": {
            "codemirror_mode": {
                "name": "ipython",
                "version": 3
            },
            "file_extension": ".py",
            "mimetype": "text/x-python",
            "name": "python",
            "nbconvert_exporter": "python",
            "pygments_lexer": "ipython3",
            "version": "3.8.10"
        }
    },
    "nbformat": 4,
    "nbformat_minor": 2
}
